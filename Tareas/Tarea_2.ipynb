{
 "cells": [
  {
   "cell_type": "markdown",
   "id": "749d12a7-bbc1-4c8d-a116-2e74b253f681",
   "metadata": {},
   "source": [
    "<a target=\"_blank\" href=\"https://colab.research.google.com/github/nicoigneo/Diplomado_Ciencia_Datos/blob/main/Tareas/Tarea_2.ipynb\">\n",
    "  <img src=\"https://colab.research.google.com/assets/colab-badge.svg\" alt=\"Open In Colab\"/>\n",
    "</a>"
   ]
  },
  {
   "cell_type": "markdown",
   "id": "96f7c0f3-9b98-4249-b616-8e4262d42302",
   "metadata": {},
   "source": [
    "<img src=https://i.pinimg.com/736x/ad/54/5d/ad545dc8468d8a329f4085639202ebbf--colombia.jpg width=\"150\" align=\"right\">"
   ]
  },
  {
   "cell_type": "markdown",
   "id": "7a55ba06-fa76-4067-853d-c594237bf247",
   "metadata": {
    "tags": []
   },
   "source": [
    "<br><img src=\"Imagenes_Tarea_2/FotoNico.jpg\" width=\"100\" style=\"border: 1px solid  black\" align=\"right\">\n",
    "<strong><h4>Nicolás Aristizábal Arciniegas</h4></strong><em>Geólogo</em><br>\n",
    "Recien egresado de la Universidad Nacional de Colombia - Sede Bogotá. Con intereses en la industria minero-energética, enfocado al análisis de datos. Trabajo de grado realizado en el área de geometalurgia y experiencia académica en proyectos de interpretación de registro de pozos."
   ]
  },
  {
   "cell_type": "markdown",
   "id": "2b629d92-1958-4317-a730-62ae7e0619c7",
   "metadata": {},
   "source": [
    "<center><span style=\"color:darkblue\"><h1>Regresión Lineal</h1></span>\n",
    "<center><span style=\"color:darkblue\"><h3>Diplomado en Ciencia de Datos</h3></span>"
   ]
  },
  {
   "cell_type": "markdown",
   "id": "4364276a-b766-4377-8344-e658d8382048",
   "metadata": {},
   "source": [
    "<div style=\"text-align: justify\">La regresión lineal es un concepto fundamental en estadística y análisis de datos que se utiliza para modelar y estudiar la relación entre dos variables cuantitativas. En particular, busca establecer una relación lineal entre una variable dependiente (la que queremos predecir) y una o más variables independientes (las que utilizamos para hacer la predicción).</div>\n",
    "<div style=\"text-align: justify\">El objetivo principal de la regresión lineal es encontrar una línea recta que mejor se ajuste a los puntos de datos en un gráfico de dispersión, de manera que minimice la distancia entre los puntos y la línea. Una vez que se ha encontrado la línea de mejor ajuste, podemos usarla para predecir los valores de la variable dependiente cuando conocemos los valores de las variables independientes.</div>"
   ]
  },
  {
   "cell_type": "markdown",
   "id": "dc7e6c4e-eb56-4990-bd3f-62338445b3ac",
   "metadata": {},
   "source": [
    "<h3 style='text-align: left;'><span style=\"color:darkblue\">Ecuación</span>"
   ]
  },
  {
   "cell_type": "markdown",
   "id": "97ba5b70-eb7c-44cf-8e77-1bfd5cb1b6fa",
   "metadata": {},
   "source": [
    "En la forma más simple, la ecuación de una regresión lineal se expresa como:"
   ]
  },
  {
   "cell_type": "markdown",
   "id": "7d7e9c21-bb0a-4700-abc7-862a669c3017",
   "metadata": {},
   "source": [
    "$$\n",
    "\\begin{align}\n",
    "y = mx + b                                              && \\text{(1)}\n",
    "\\end{align}\n",
    "$$"
   ]
  },
  {
   "cell_type": "markdown",
   "id": "8da618e7-f89f-470a-ac89-954d4a1c3a4b",
   "metadata": {},
   "source": [
    "Donde:\n",
    "<br><em>\"y\"</em> es la variable dependiente que queremos predecir.\n",
    "<br><em>\"x\"</em> es la variable independiente.\n",
    "<br><em>\"m\"</em> es la pendiente de la línea, que representa el cambio en \"y\" por cada cambio unitario en \"x\".\n",
    "<br><em>\"b\"</em> es la ordenada al origen, que es el valor de \"y\" cuando \"x\" es igual a cero."
   ]
  },
  {
   "cell_type": "markdown",
   "id": "12a9d9d7-c16e-4956-94de-a67cda7d27af",
   "metadata": {},
   "source": [
    "<h4 style='text-align: left;'><span style=\"color:darkblue\">Ejemplo</span>"
   ]
  },
  {
   "cell_type": "markdown",
   "id": "f9523a1d-1adb-40e9-8966-30def8c832ce",
   "metadata": {},
   "source": [
    "<div style=\"text-align: justify\">Supongamos que tenemos datos que representan la cantidad de horas de estudio (variable independiente) y el puntaje obtenido en un examen (variable dependiente) para varios estudiantes. Queremos utilizar la regresión lineal para determinar si existe una relación lineal entre el tiempo de estudio y el rendimiento en el examen, y si es así, poder hacer predicciones sobre el puntaje del examen en función del tiempo de estudio. <br>\n",
    "<br>\n",
    "Aquí hay una tabla ficticia con datos hipotéticos de 5 estudiantes:</div>"
   ]
  },
  {
   "cell_type": "markdown",
   "id": "36c746be-8157-46b6-954a-d1da70a3d630",
   "metadata": {},
   "source": [
    "| Horas de Estudio (x)    | Puntaje en el Examen (y) |\n",
    "| :--------: | :-------: |\n",
    "| 1 | 60 |\n",
    "| 2 | 70 |\n",
    "| 3 | 75 |\n",
    "| 4 | 85 |\n",
    "| 5 | 90 |"
   ]
  },
  {
   "cell_type": "markdown",
   "id": "f98723fc-1724-4c76-bc71-14c8797e504f",
   "metadata": {},
   "source": [
    "<div style=\"text-align: justify\">Para realizar la regresión lineal, necesitamos encontrar la ecuación de la línea que mejor se ajuste a estos datos. Utilizando software estadístico o herramientas de análisis de datos, se calculará la pendiente <em>\"m\"</em> y la ordenada al origen <em>\"b\"</em> de la línea de regresión.</div>"
   ]
  },
  {
   "cell_type": "markdown",
   "id": "4bb9e377-5e87-4247-912e-edf8a864460d",
   "metadata": {},
   "source": [
    "<center><img src=\"Imagenes_Tarea_2/chart1.jpg\" width=\"500\" style=\"border: 1px solid  black;\"></center>"
   ]
  },
  {
   "cell_type": "markdown",
   "id": "bc6da5c1-a5d0-47b1-afd7-1cca5e62aed5",
   "metadata": {},
   "source": [
    "La ecuación de la línea de regresión resultante es:\n",
    "\n",
    "$$\n",
    "\\begin{align}\n",
    "y = 7.5x + 53.5   && \\text{(2)}\n",
    "\\end{align}\n",
    "$$\n",
    "\n",
    "Interpretación:\n",
    "\n",
    "<div style=\"text-align: justify\">La pendiente \"m\" es 7.5. Esto significa que, en promedio, por cada hora adicional de estudio, se espera que el puntaje en el examen aumente en 7.5 puntos.\n",
    "La ordenada al origen \"b\" es 53.5. Esto indica que cuando un estudiante no estudia (0 horas), se espera que obtenga un puntaje base de 53.5 en el examen.\n",
    "Con esta ecuación de regresión lineal, ahora podemos hacer predicciones. Por ejemplo, si un estudiante estudia 6 horas, podemos calcular su puntaje estimado en el examen:</div>\n",
    "\n",
    "$$\n",
    "\\begin{align}\n",
    "y &= 7.5(6) + 53.5 \\\\\n",
    " &≈ 98.5\n",
    "\\end{align}\n",
    "$$\n",
    "\n",
    "<div style=\"text-align: justify\">Por lo tanto, según nuestro modelo de regresión lineal, si un estudiante estudia 6 horas, se espera que obtenga un puntaje estimado de aproximadamente 98.5 en el examen.</div>\n",
    "<br>\n",
    "<div style=\"text-align: justify\">Es importante tener en cuenta que la regresión lineal es una simplificación y que existen muchas otras variables y factores que pueden influir en el rendimiento en un examen. Sin embargo, este ejemplo ilustra cómo se puede utilizar la regresión lineal para modelar la relación entre dos variables y realizar predicciones basadas en esa relación.</div>"
   ]
  },
  {
   "cell_type": "markdown",
   "id": "b9b80b1b-2a88-474f-82b3-89798d0a8812",
   "metadata": {},
   "source": [
    "<h3 style='text-align: left;'><span style=\"color:darkblue\">Usos</span>"
   ]
  },
  {
   "cell_type": "markdown",
   "id": "ff1ed78e-5c31-46b7-a9b5-7999019f2fd7",
   "metadata": {},
   "source": [
    "<div style=\"text-align: justify\">La regresión lineal se utiliza ampliamente en diferentes campos, como la economía, la ciencia de datos, la ingeniería y las ciencias sociales, entre otros. Es una herramienta valiosa para comprender las relaciones entre variables y realizar predicciones basadas en datos históricos. Hay variantes más complejas de la regresión lineal, como la regresión lineal múltiple, que involucra más de una variable independiente, y otras técnicas avanzadas, pero el concepto básico de encontrar una línea de mejor ajuste se mantiene en todos estos casos.</div>"
   ]
  },
  {
   "cell_type": "markdown",
   "id": "58425961-840d-432f-921a-99bb588ee138",
   "metadata": {},
   "source": [
    "<h3 style='text-align: left;'><span style=\"color:darkblue\">Más información</span>"
   ]
  },
  {
   "cell_type": "markdown",
   "id": "d741e27e-a41b-40e5-b916-57b603e8e63f",
   "metadata": {},
   "source": [
    "Para consultas adicionales ingresar a los siguientes links:<br>\n",
    " - [Wikipedia](https://es.wikipedia.org/wiki/Regresi%C3%B3n_lineal)<br>\n",
    " - Diplomado Ciencia de Datos [Conceptos básicos de regresión](https://github.com/AprendizajeProfundo/diplomado-ciencia-de-datos/blob/main/Matematicas-Estadistica/Cuadernos/am_intro_regresion.ipynb)"
   ]
  }
 ],
 "metadata": {
  "kernelspec": {
   "display_name": "Python 3 (ipykernel)",
   "language": "python",
   "name": "python3"
  },
  "language_info": {
   "codemirror_mode": {
    "name": "ipython",
    "version": 3
   },
   "file_extension": ".py",
   "mimetype": "text/x-python",
   "name": "python",
   "nbconvert_exporter": "python",
   "pygments_lexer": "ipython3",
   "version": "3.7.1"
  }
 },
 "nbformat": 4,
 "nbformat_minor": 5
}
